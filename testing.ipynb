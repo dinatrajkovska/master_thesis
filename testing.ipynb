{
 "cells": [
  {
   "cell_type": "code",
   "execution_count": 28,
   "metadata": {},
   "outputs": [],
   "source": [
    "from torch.utils.data import Dataset, DataLoader"
   ]
  },
  {
   "cell_type": "code",
   "execution_count": 53,
   "metadata": {},
   "outputs": [],
   "source": [
    "class AudioDataset(Dataset):\n",
    "    \n",
    "    def __init__(self, audio_fajlovi):\n",
    "        self.audio_fajlovi = audio_fajlovi\n",
    "    \n",
    "    def __getitem__(self, idx):\n",
    "        return self.audio_fajlovi[idx]\n",
    "    \n",
    "    def __len__(self):\n",
    "        return len(self.audio_fajlovi)"
   ]
  },
  {
   "cell_type": "code",
   "execution_count": 54,
   "metadata": {},
   "outputs": [],
   "source": [
    "dataset = AudioDataset([1,2,3,4,5,6])"
   ]
  },
  {
   "cell_type": "code",
   "execution_count": 55,
   "metadata": {},
   "outputs": [
    {
     "name": "stdout",
     "output_type": "stream",
     "text": [
      "2\n",
      "6\n"
     ]
    }
   ],
   "source": [
    "print(dataset[1])\n",
    "print(len(dataset))"
   ]
  },
  {
   "cell_type": "code",
   "execution_count": 56,
   "metadata": {},
   "outputs": [],
   "source": [
    "loader = DataLoader(dataset, shuffle=True, batch_size=3)"
   ]
  },
  {
   "cell_type": "code",
   "execution_count": 62,
   "metadata": {},
   "outputs": [
    {
     "name": "stdout",
     "output_type": "stream",
     "text": [
      "Starting epoch 1!\n",
      "tensor([2, 5, 3])\n",
      "=======\n",
      "tensor([1, 4, 6])\n",
      "=======\n",
      "Starting epoch 2!\n",
      "tensor([4, 2, 6])\n",
      "=======\n",
      "tensor([1, 3, 5])\n",
      "=======\n",
      "Starting epoch 3!\n",
      "tensor([5, 4, 2])\n",
      "=======\n",
      "tensor([6, 1, 3])\n",
      "=======\n",
      "Starting epoch 4!\n",
      "tensor([6, 1, 3])\n",
      "=======\n",
      "tensor([5, 2, 4])\n",
      "=======\n",
      "Starting epoch 5!\n",
      "tensor([3, 4, 5])\n",
      "=======\n",
      "tensor([1, 2, 6])\n",
      "=======\n",
      "Starting epoch 6!\n",
      "tensor([5, 3, 1])\n",
      "=======\n",
      "tensor([4, 2, 6])\n",
      "=======\n",
      "Starting epoch 7!\n",
      "tensor([2, 1, 3])\n",
      "=======\n",
      "tensor([4, 6, 5])\n",
      "=======\n",
      "Starting epoch 8!\n",
      "tensor([4, 6, 5])\n",
      "=======\n",
      "tensor([1, 2, 3])\n",
      "=======\n",
      "Starting epoch 9!\n",
      "tensor([6, 2, 1])\n",
      "=======\n",
      "tensor([3, 5, 4])\n",
      "=======\n",
      "Starting epoch 10!\n",
      "tensor([6, 2, 5])\n",
      "=======\n",
      "tensor([1, 4, 3])\n",
      "=======\n"
     ]
    }
   ],
   "source": [
    "for epoch in range(10):\n",
    "    print(f\"Starting epoch {epoch+1}!\")\n",
    "    for element in loader:\n",
    "        predictions = model(element)\n",
    "        print(\"=======\")"
   ]
  },
  {
   "cell_type": "code",
   "execution_count": 66,
   "metadata": {},
   "outputs": [
    {
     "name": "stdout",
     "output_type": "stream",
     "text": [
      "[-1, 4, 1, 6, 3]\n"
     ]
    }
   ],
   "source": [
    "X = [1,2,3,4,5]\n",
    "Y = []\n",
    "for e in X:\n",
    "    if e % 2 == 0:\n",
    "        Y.append(e + 2)\n",
    "    else:\n",
    "        Y.append(e - 2)\n",
    "print(Y)"
   ]
  },
  {
   "cell_type": "code",
   "execution_count": 68,
   "metadata": {},
   "outputs": [
    {
     "name": "stdout",
     "output_type": "stream",
     "text": [
      "[-1, 4, 1, 6, 3]\n"
     ]
    }
   ],
   "source": [
    "Y = [e+2 if e % 2 == 0 else e - 2 for e in X]\n",
    "print(Y)"
   ]
  },
  {
   "cell_type": "code",
   "execution_count": null,
   "metadata": {},
   "outputs": [],
   "source": []
  }
 ],
 "metadata": {
  "kernelspec": {
   "display_name": "Python 3",
   "language": "python",
   "name": "python3"
  },
  "language_info": {
   "codemirror_mode": {
    "name": "ipython",
    "version": 3
   },
   "file_extension": ".py",
   "mimetype": "text/x-python",
   "name": "python",
   "nbconvert_exporter": "python",
   "pygments_lexer": "ipython3",
   "version": "3.7.4"
  }
 },
 "nbformat": 4,
 "nbformat_minor": 4
}
